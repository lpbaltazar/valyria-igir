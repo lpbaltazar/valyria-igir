{
 "cells": [
  {
   "cell_type": "code",
   "execution_count": 27,
   "metadata": {
    "ExecuteTime": {
     "end_time": "2019-05-07T01:52:22.158670Z",
     "start_time": "2019-05-07T01:52:22.103354Z"
    }
   },
   "outputs": [],
   "source": [
    "import pandas as pd\n",
    "import numpy as np\n",
    "import warnings\n",
    "import re\n",
    "import os\n",
    "\n",
    "warnings.filterwarnings('ignore')"
   ]
  },
  {
   "cell_type": "code",
   "execution_count": 64,
   "metadata": {
    "ExecuteTime": {
     "end_time": "2019-05-07T03:22:43.276964Z",
     "start_time": "2019-05-07T03:22:37.693880Z"
    }
   },
   "outputs": [
    {
     "data": {
      "text/plain": [
       "(3929026, 11)"
      ]
     },
     "execution_count": 64,
     "metadata": {},
     "output_type": "execute_result"
    }
   ],
   "source": [
    "unprocessed_dir = os.path.abspath('../../unprocessed')\n",
    "processed_dir = os.path.abspath('../../processed')\n",
    "file = os.path.join(unprocessed_dir,'results.csv')\n",
    "results = pd.read_csv(file, encoding = 'utf-8', dtype = {'PRECINCT_CODE':str})\n",
    "results.shape"
   ]
  },
  {
   "cell_type": "code",
   "execution_count": 65,
   "metadata": {
    "ExecuteTime": {
     "end_time": "2019-05-07T03:22:43.308951Z",
     "start_time": "2019-05-07T03:22:43.279367Z"
    }
   },
   "outputs": [],
   "source": [
    "contest = pd.read_csv(os.path.join(processed_dir, 'static/contests.csv'), encoding = 'utf-8')\n",
    "# contest.rename({0:'CONTEST_CODE', 1: 'CONTEST_NAME'}, axis = 1, inplace = True)\n",
    "positions = ['SENATOR', 'GOVERNOR', 'VICE-GOVERNOR', 'MAYOR', 'VICE-MAYOR','PARTY LIST']"
   ]
  },
  {
   "cell_type": "code",
   "execution_count": 66,
   "metadata": {
    "ExecuteTime": {
     "end_time": "2019-05-07T03:22:43.352411Z",
     "start_time": "2019-05-07T03:22:43.312408Z"
    }
   },
   "outputs": [],
   "source": [
    "codes = []\n",
    "for pos in positions:\n",
    "    mask = contest['CONTEST_NAME'].str.contains(pos)\n",
    "    codes_1 = contest.loc[mask]\n",
    "    codes.append(codes_1)\n",
    "codes = pd.concat(codes)"
   ]
  },
  {
   "cell_type": "code",
   "execution_count": 67,
   "metadata": {
    "ExecuteTime": {
     "end_time": "2019-05-07T03:22:43.411025Z",
     "start_time": "2019-05-07T03:22:43.355170Z"
    }
   },
   "outputs": [],
   "source": [
    "candidates = pd.read_csv(os.path.join(processed_dir, 'static/candidates.csv'), encoding = 'utf-8')\n",
    "candidates = candidates.loc[candidates['CONTEST_CODE'].isin(codes['CONTEST_CODE'].values)]"
   ]
  },
  {
   "cell_type": "code",
   "execution_count": 68,
   "metadata": {
    "ExecuteTime": {
     "end_time": "2019-05-07T03:22:43.592142Z",
     "start_time": "2019-05-07T03:22:43.413571Z"
    }
   },
   "outputs": [
    {
     "data": {
      "text/plain": [
       "Index(['VCM_ID', 'REG_NAME', 'PRV_NAME', 'MUN_NAME', 'BRGY_NAME', 'POLLPLACE',\n",
       "       'CLUSTERED_PREC', 'REGISTERED_VOTERS'],\n",
       "      dtype='object')"
      ]
     },
     "execution_count": 68,
     "metadata": {},
     "output_type": "execute_result"
    }
   ],
   "source": [
    "precincts = pd.read_csv(os.path.join(processed_dir, 'static/precincts.csv'), encoding = 'utf-8', dtype = {'VCM_ID':str})\n",
    "precincts.columns"
   ]
  },
  {
   "cell_type": "code",
   "execution_count": 69,
   "metadata": {
    "ExecuteTime": {
     "end_time": "2019-05-07T03:22:45.694551Z",
     "start_time": "2019-05-07T03:22:43.596365Z"
    }
   },
   "outputs": [],
   "source": [
    "results = results.merge(precincts, left_on = 'PRECINCT_CODE', right_on = 'VCM_ID', how = 'left')"
   ]
  },
  {
   "cell_type": "code",
   "execution_count": 70,
   "metadata": {
    "ExecuteTime": {
     "end_time": "2019-05-07T03:22:45.705592Z",
     "start_time": "2019-05-07T03:22:45.696492Z"
    }
   },
   "outputs": [
    {
     "data": {
      "text/plain": [
       "Index(['Unnamed: 0', 'PRECINCT_CODE', 'CONTEST_CODE', 'CANDIDATE_NAME',\n",
       "       'PARTY_CODE', 'VOTES_AMOUNT', 'TOTALIZATION_ORDER', 'NUMBER_VOTES',\n",
       "       'UNDERVOTE', 'OVERVOTE', 'RECEPTION_DATE', 'VCM_ID', 'REG_NAME',\n",
       "       'PRV_NAME', 'MUN_NAME', 'BRGY_NAME', 'POLLPLACE', 'CLUSTERED_PREC',\n",
       "       'REGISTERED_VOTERS'],\n",
       "      dtype='object')"
      ]
     },
     "execution_count": 70,
     "metadata": {},
     "output_type": "execute_result"
    }
   ],
   "source": [
    "results.columns"
   ]
  },
  {
   "cell_type": "code",
   "execution_count": 72,
   "metadata": {
    "ExecuteTime": {
     "end_time": "2019-05-07T03:24:05.715797Z",
     "start_time": "2019-05-07T03:24:05.411948Z"
    }
   },
   "outputs": [
    {
     "data": {
      "text/plain": [
       "2443"
      ]
     },
     "execution_count": 72,
     "metadata": {},
     "output_type": "execute_result"
    }
   ],
   "source": [
    "len(results.loc[results.REG_NAME.isnull()]['PRECINCT_CODE'].unique())"
   ]
  },
  {
   "cell_type": "code",
   "execution_count": null,
   "metadata": {},
   "outputs": [],
   "source": []
  }
 ],
 "metadata": {
  "kernelspec": {
   "display_name": "Python 3",
   "language": "python",
   "name": "python3"
  },
  "language_info": {
   "codemirror_mode": {
    "name": "ipython",
    "version": 3
   },
   "file_extension": ".py",
   "mimetype": "text/x-python",
   "name": "python",
   "nbconvert_exporter": "python",
   "pygments_lexer": "ipython3",
   "version": "3.6.4"
  }
 },
 "nbformat": 4,
 "nbformat_minor": 2
}

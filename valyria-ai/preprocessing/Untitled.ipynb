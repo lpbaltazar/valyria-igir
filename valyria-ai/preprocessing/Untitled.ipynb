{
 "cells": [
  {
   "cell_type": "code",
   "execution_count": 1,
   "metadata": {
    "ExecuteTime": {
     "end_time": "2019-05-08T03:33:22.425894Z",
     "start_time": "2019-05-08T03:33:21.737628Z"
    }
   },
   "outputs": [],
   "source": [
    "import pandas as pd\n",
    "import numpy as np\n",
    "import warnings\n",
    "import time\n",
    "import os\n",
    "\n",
    "warnings.filterwarnings('ignore')"
   ]
  },
  {
   "cell_type": "markdown",
   "metadata": {},
   "source": [
    "## Initialize <a id='initialize'></a>\n",
    "This function is used to get, and extract all needed information from the processed/static/ folder.\n",
    "It extracts the candidates who are either **SENATOR**, **GOVERNOR**, **VICE-GOVERNOR**, **MAYOR**, **VICE-MAYOR**, and **PARTY LIST**. It will also output a dataframe that will be used for mapping of the precincts and their respective **region**, **province**, and **municipality**.\n",
    "\n",
    "**Inputs:**\n",
    "* unprocessed_dir (string) > directory of the unprocessed results.csv\n",
    "* processed_dir (string) > directory of the processed data\n",
    "\n",
    "**Outputs:**\n",
    "* codes (dataframe) > dataframe of the contest_codes of interest\n",
    "* candidates (dataframe) > dataframe of the candidates with contest_codes of interest\n",
    "* precincts (dataframe) > dataframe of the precincts"
   ]
  },
  {
   "cell_type": "code",
   "execution_count": 10,
   "metadata": {
    "ExecuteTime": {
     "end_time": "2019-05-08T03:46:47.572235Z",
     "start_time": "2019-05-08T03:46:47.565140Z"
    }
   },
   "outputs": [],
   "source": [
    "def initialize(unprocessed_dir, processed_dir):\n",
    "    contest = pd.read_csv(os.path.join(processed_dir, 'static/contests.csv'), encoding = 'utf-8')\n",
    "    positions = ['SENATOR', 'GOVERNOR', 'VICE-GOVERNOR', 'MAYOR', 'VICE-MAYOR','PARTY LIST']\n",
    "    codes = []\n",
    "    for pos in positions:\n",
    "        mask = contest['CONTEST_NAME'].str.contains(pos)\n",
    "        codes_1 = contest.loc[mask]\n",
    "        codes.append(codes_1)\n",
    "    codes = pd.concat(codes)\n",
    "\n",
    "    candidates = pd.read_csv(os.path.join(processed_dir, 'static/candidates.csv'), encoding = 'utf-8')\n",
    "    candidates = candidates.loc[candidates['CONTEST_CODE'].isin(codes['CONTEST_CODE'].values)]\n",
    "    precincts = pd.read_csv(os.path.join(processed_dir, 'static/precincts.csv'), encoding = 'utf-8', dtype = {'VCM_ID':str})\n",
    "\n",
    "    return codes, candidates, precincts"
   ]
  },
  {
   "cell_type": "markdown",
   "metadata": {},
   "source": [
    "## Preparation of Results <a id = 'prep'></a>\n",
    "This function prepares the results by mapping the precincts to its region, province, and municipality, and removes the oversee absentee voters.\n",
    "\n",
    "**Inputs**:\n",
    "* unprocessed_dir (string) > directory of the unprocessed results.csv\n",
    "* precincts (dataframe) > dataframe of the precincts\n",
    "\n",
    "**Outputs**:\n",
    "* df (dataframe) > dataframe of the results.csv"
   ]
  },
  {
   "cell_type": "code",
   "execution_count": 4,
   "metadata": {
    "ExecuteTime": {
     "end_time": "2019-05-08T03:34:07.490171Z",
     "start_time": "2019-05-08T03:34:07.483295Z"
    }
   },
   "outputs": [],
   "source": [
    "def prep_results(unprocessed_dir, precincts):\n",
    "    df = pd.read_csv(os.path.join(unprocessed_dir,'results.csv'), encoding = 'utf-8', dtype = {'PRECINCT_CODE':str})\n",
    "    df = df.merge(precincts, left_on = 'PRECINCT_CODE', right_on = 'VCM_ID', how = 'left')\n",
    "    df = df.loc[df['REG_NAME'] != 'OAV']\n",
    "\n",
    "    return df"
   ]
  },
  {
   "cell_type": "markdown",
   "metadata": {},
   "source": [
    "## Candidate Vote Count <a id = 'vote_count'></a>\n",
    "Summarizes the vote counts per candidate depending on the level (regional, provincial, municipal).\n",
    "\n",
    "**Inputs:**\n",
    "* df (dataframe) > dataframe of the results\n",
    "* col (string) > column name representing the level of summarizing ('REG_NAME':regional, 'PRV_NAME':provincial, 'MUN_NAME':municipal)\n",
    "* candidates (dataframe) > dataframe of the candidates with contest_codes of interest\n",
    "\n",
    "**Outputs:**\n",
    "* summarized_candidate (dataframe) > dataframe of the summarized vote count"
   ]
  },
  {
   "cell_type": "code",
   "execution_count": 11,
   "metadata": {
    "ExecuteTime": {
     "end_time": "2019-05-08T03:50:22.745507Z",
     "start_time": "2019-05-08T03:50:22.739938Z"
    }
   },
   "outputs": [],
   "source": [
    "def summarize_candidate(df, col, candidates):\n",
    "    summarized_candidate = pd.DataFrame(index = df[col].unique().tolist(), columns = candidates)\n",
    "    grouped = df.groupby([col, 'CANDIDATE_NAME'])\n",
    "    keys = grouped.groups.keys()\n",
    "    for key in keys:\n",
    "        a = grouped.get_group(key)\n",
    "        summarized_candidate.loc[key[0]][key[1]] = a.VOTES_AMOUNT.sum()\n",
    "    summarized_candidate.index.name = col\n",
    "\n",
    "    return summarized_candidate.reset_index()"
   ]
  },
  {
   "cell_type": "markdown",
   "metadata": {},
   "source": [
    "## Column Summarizer <a id = 'summarize'></a>\n",
    "Summarizes the following columns: NUMBER_VOTERS, UNDERVOTE, OVERVOTE\n",
    "\n",
    "**Inputs:**\n",
    "* df (dataframe) > dataframe of the results\n",
    "* col (string) > column name representing the level of summarizing ('REG_NAME':regional, 'PRV_NAME':provincial, 'MUN_NAME':municipal)\n",
    "* cols (list) > list of column names to summarize (stated above)\n",
    "\n",
    "**Outputs:**\n",
    "* summarized (datafrmae) > dataframe of the summarized columns"
   ]
  },
  {
   "cell_type": "code",
   "execution_count": 6,
   "metadata": {
    "ExecuteTime": {
     "end_time": "2019-05-08T03:34:26.958323Z",
     "start_time": "2019-05-08T03:34:26.951557Z"
    }
   },
   "outputs": [],
   "source": [
    "def summarize(df, col, cols):\n",
    "    summarized = pd.DataFrame(index = df[col].unique().tolist(), columns = cols)\n",
    "    grouped = df.groupby(col)\n",
    "    keys = grouped.groups.keys()\n",
    "    for key in keys:\n",
    "        a = grouped.get_group(key)\n",
    "        a.drop_duplicates(subset = ['PRECINCT_CODE'], keep = 'first', inplace = True)\n",
    "        for i in cols:\n",
    "            summarized.loc[key][i] = a[i].sum()\n",
    "    summarized.index.name = col\n",
    "    return summarized.reset_index()"
   ]
  },
  {
   "cell_type": "code",
   "execution_count": 7,
   "metadata": {
    "ExecuteTime": {
     "end_time": "2019-05-08T03:34:41.550738Z",
     "start_time": "2019-05-08T03:34:41.546960Z"
    }
   },
   "outputs": [],
   "source": [
    "def save_file(df, outfile):\n",
    "    print('Saving file')\n",
    "    df.to_csv(outfile, encoding = 'utf-8', index = False)"
   ]
  },
  {
   "cell_type": "code",
   "execution_count": 8,
   "metadata": {
    "ExecuteTime": {
     "end_time": "2019-05-08T03:34:50.124163Z",
     "start_time": "2019-05-08T03:34:50.119256Z"
    }
   },
   "outputs": [],
   "source": [
    "def add_info(df, level, candidates, codes, outfile = False):\n",
    "    df['LEVEL'] = level\n",
    "    df = df.merge(candidates, left_on = 'variable', right_on = 'CANDIDATE_NAME', how = 'left')\n",
    "    df = df.merge(codes, left_on = 'CONTEST_CODE', right_on = 'CONTEST_CODE', how = 'left')\n",
    "    if outfile:\n",
    "        save_file(df, outfile)"
   ]
  },
  {
   "cell_type": "code",
   "execution_count": 9,
   "metadata": {
    "ExecuteTime": {
     "end_time": "2019-05-08T03:34:57.625653Z",
     "start_time": "2019-05-08T03:34:57.621584Z"
    }
   },
   "outputs": [],
   "source": [
    "def transform(df, id_vars, value_vars, outfile = False):\n",
    "    transformed = df.melt(id_vars = id_vars, value_vars=value_vars)\n",
    "    if outfile:\n",
    "        save_file(transformed, outfile)\n",
    "    return transformed"
   ]
  },
  {
   "cell_type": "code",
   "execution_count": null,
   "metadata": {},
   "outputs": [],
   "source": []
  }
 ],
 "metadata": {
  "kernelspec": {
   "display_name": "Python 3",
   "language": "python",
   "name": "python3"
  },
  "language_info": {
   "codemirror_mode": {
    "name": "ipython",
    "version": 3
   },
   "file_extension": ".py",
   "mimetype": "text/x-python",
   "name": "python",
   "nbconvert_exporter": "python",
   "pygments_lexer": "ipython3",
   "version": "3.6.4"
  }
 },
 "nbformat": 4,
 "nbformat_minor": 2
}
